{
  "nbformat": 4,
  "nbformat_minor": 0,
  "metadata": {
    "colab": {
      "name": "FDS_Project_PreProcessing.ipynb",
      "provenance": []
    },
    "kernelspec": {
      "name": "python3",
      "display_name": "Python 3"
    }
  },
  "cells": [
    {
      "cell_type": "markdown",
      "metadata": {
        "id": "XmrwL5uHMC-m",
        "colab_type": "text"
      },
      "source": [
        "# Final Fundamentals of datascience Project\n",
        "In the below cell I have imported all required libraries"
      ]
    },
    {
      "cell_type": "code",
      "metadata": {
        "id": "7MidGE-EKhuM",
        "colab_type": "code",
        "colab": {}
      },
      "source": [
        "from scipy import stats     \n",
        "import pandas as pd\n",
        "import numpy as np\n",
        "import seaborn as sns\n",
        "import matplotlib.pyplot as plt\n",
        "import hw3_fds_feature_selection as fs"
      ],
      "execution_count": 0,
      "outputs": []
    },
    {
      "cell_type": "markdown",
      "metadata": {
        "id": "KS8UGg8fM1NW",
        "colab_type": "text"
      },
      "source": [
        "# data loading"
      ]
    },
    {
      "cell_type": "code",
      "metadata": {
        "id": "-1xoQQVdLBbe",
        "colab_type": "code",
        "outputId": "961f178a-26e8-4dd8-bca6-a002f68170b9",
        "colab": {
          "base_uri": "https://localhost:8080/",
          "height": 319
        }
      },
      "source": [
        "# loading csv dataset into dataframe\n",
        "df = pd.read_csv('Chirumamilla_Original.csv')\n",
        "data = df.copy()\n",
        "display(df.head())"
      ],
      "execution_count": 78,
      "outputs": [
        {
          "output_type": "display_data",
          "data": {
            "text/html": [
              "<div>\n",
              "<style scoped>\n",
              "    .dataframe tbody tr th:only-of-type {\n",
              "        vertical-align: middle;\n",
              "    }\n",
              "\n",
              "    .dataframe tbody tr th {\n",
              "        vertical-align: top;\n",
              "    }\n",
              "\n",
              "    .dataframe thead th {\n",
              "        text-align: right;\n",
              "    }\n",
              "</style>\n",
              "<table border=\"1\" class=\"dataframe\">\n",
              "  <thead>\n",
              "    <tr style=\"text-align: right;\">\n",
              "      <th></th>\n",
              "      <th>age</th>\n",
              "      <th>workclass</th>\n",
              "      <th>education_level</th>\n",
              "      <th>education-num</th>\n",
              "      <th>marital-status</th>\n",
              "      <th>occupation</th>\n",
              "      <th>relationship</th>\n",
              "      <th>race</th>\n",
              "      <th>sex</th>\n",
              "      <th>capital-gain</th>\n",
              "      <th>capital-loss</th>\n",
              "      <th>hours-per-week</th>\n",
              "      <th>native-country</th>\n",
              "      <th>income</th>\n",
              "    </tr>\n",
              "  </thead>\n",
              "  <tbody>\n",
              "    <tr>\n",
              "      <th>0</th>\n",
              "      <td>39</td>\n",
              "      <td>State-gov</td>\n",
              "      <td>Bachelors</td>\n",
              "      <td>13.0</td>\n",
              "      <td>Never-married</td>\n",
              "      <td>Adm-clerical</td>\n",
              "      <td>Not-in-family</td>\n",
              "      <td>White</td>\n",
              "      <td>Male</td>\n",
              "      <td>2174.0</td>\n",
              "      <td>0.0</td>\n",
              "      <td>40.0</td>\n",
              "      <td>United-States</td>\n",
              "      <td>&lt;=50K</td>\n",
              "    </tr>\n",
              "    <tr>\n",
              "      <th>1</th>\n",
              "      <td>50</td>\n",
              "      <td>Self-emp-not-inc</td>\n",
              "      <td>Bachelors</td>\n",
              "      <td>13.0</td>\n",
              "      <td>Married-civ-spouse</td>\n",
              "      <td>Exec-managerial</td>\n",
              "      <td>Husband</td>\n",
              "      <td>White</td>\n",
              "      <td>Male</td>\n",
              "      <td>0.0</td>\n",
              "      <td>0.0</td>\n",
              "      <td>13.0</td>\n",
              "      <td>United-States</td>\n",
              "      <td>&lt;=50K</td>\n",
              "    </tr>\n",
              "    <tr>\n",
              "      <th>2</th>\n",
              "      <td>38</td>\n",
              "      <td>Private</td>\n",
              "      <td>HS-grad</td>\n",
              "      <td>9.0</td>\n",
              "      <td>Divorced</td>\n",
              "      <td>Handlers-cleaners</td>\n",
              "      <td>Not-in-family</td>\n",
              "      <td>White</td>\n",
              "      <td>Male</td>\n",
              "      <td>0.0</td>\n",
              "      <td>0.0</td>\n",
              "      <td>40.0</td>\n",
              "      <td>United-States</td>\n",
              "      <td>&lt;=50K</td>\n",
              "    </tr>\n",
              "    <tr>\n",
              "      <th>3</th>\n",
              "      <td>53</td>\n",
              "      <td>Private</td>\n",
              "      <td>11th</td>\n",
              "      <td>7.0</td>\n",
              "      <td>Married-civ-spouse</td>\n",
              "      <td>Handlers-cleaners</td>\n",
              "      <td>Husband</td>\n",
              "      <td>Black</td>\n",
              "      <td>Male</td>\n",
              "      <td>0.0</td>\n",
              "      <td>0.0</td>\n",
              "      <td>40.0</td>\n",
              "      <td>United-States</td>\n",
              "      <td>&lt;=50K</td>\n",
              "    </tr>\n",
              "    <tr>\n",
              "      <th>4</th>\n",
              "      <td>28</td>\n",
              "      <td>Private</td>\n",
              "      <td>Bachelors</td>\n",
              "      <td>13.0</td>\n",
              "      <td>Married-civ-spouse</td>\n",
              "      <td>Prof-specialty</td>\n",
              "      <td>Wife</td>\n",
              "      <td>Black</td>\n",
              "      <td>Female</td>\n",
              "      <td>0.0</td>\n",
              "      <td>0.0</td>\n",
              "      <td>40.0</td>\n",
              "      <td>Cuba</td>\n",
              "      <td>&lt;=50K</td>\n",
              "    </tr>\n",
              "  </tbody>\n",
              "</table>\n",
              "</div>"
            ],
            "text/plain": [
              "   age          workclass  ...  native-country  income\n",
              "0   39          State-gov  ...   United-States   <=50K\n",
              "1   50   Self-emp-not-inc  ...   United-States   <=50K\n",
              "2   38            Private  ...   United-States   <=50K\n",
              "3   53            Private  ...   United-States   <=50K\n",
              "4   28            Private  ...            Cuba   <=50K\n",
              "\n",
              "[5 rows x 14 columns]"
            ]
          },
          "metadata": {
            "tags": []
          }
        }
      ]
    },
    {
      "cell_type": "code",
      "metadata": {
        "id": "tjwvfRldjegY",
        "colab_type": "code",
        "outputId": "1917c5d9-d8d0-4115-ad99-6c25f6b9028a",
        "colab": {
          "base_uri": "https://localhost:8080/",
          "height": 380
        }
      },
      "source": [
        "Features = df.columns\n",
        "Features\n",
        "df.info()"
      ],
      "execution_count": 79,
      "outputs": [
        {
          "output_type": "stream",
          "text": [
            "<class 'pandas.core.frame.DataFrame'>\n",
            "RangeIndex: 45222 entries, 0 to 45221\n",
            "Data columns (total 14 columns):\n",
            " #   Column           Non-Null Count  Dtype  \n",
            "---  ------           --------------  -----  \n",
            " 0   age              45222 non-null  int64  \n",
            " 1   workclass        45222 non-null  object \n",
            " 2   education_level  45222 non-null  object \n",
            " 3   education-num    45222 non-null  float64\n",
            " 4   marital-status   45222 non-null  object \n",
            " 5   occupation       45222 non-null  object \n",
            " 6   relationship     45222 non-null  object \n",
            " 7   race             45222 non-null  object \n",
            " 8   sex              45222 non-null  object \n",
            " 9   capital-gain     45222 non-null  float64\n",
            " 10  capital-loss     45222 non-null  float64\n",
            " 11  hours-per-week   45222 non-null  float64\n",
            " 12  native-country   45222 non-null  object \n",
            " 13  income           45222 non-null  object \n",
            "dtypes: float64(4), int64(1), object(9)\n",
            "memory usage: 4.8+ MB\n"
          ],
          "name": "stdout"
        }
      ]
    },
    {
      "cell_type": "markdown",
      "metadata": {
        "id": "dKlAKTYbPOrR",
        "colab_type": "text"
      },
      "source": [
        "## Imformation About Features\n",
        "**age**: in years(continuous)\n",
        "\n",
        "**workclass**: Private, Self-emp-not-inc, Self-emp-inc, Federal-gov, Local-gov, State-gov, Without-pay, Never-worked(Categorical)\n",
        "\n",
        "**education**: Bachelors, Some-college, 11th, HS-grad, Prof-school, Assoc-acdm, Assoc-voc, 9th, 7th-8th, 12th, Masters, 1st-4th, 10th, Doctorate, 5th-6th, Preschool.(cactegorical)\n",
        "\n",
        "**marital-status**: Married-civ-spouse, Divorced, Never-married, Separated, Widowed, Married-spouse-absent, Married-AF-spouse(categorical)\n",
        "\n",
        "**occupation**: Tech-support, Craft-repair, Other-service, Sales, Exec-managerial, Prof-specialty, Handlers-cleaners, Machine-op-inspct, Adm-clerical, Farming-fishing, Transport-moving, Priv-house-serv, Protective-serv, Armed-Forces(categorical)\n",
        "\n",
        "**relationship**: Wife, Own-child, Husband, Not-in-family, Other-relative, Unmarried(categorical)\n",
        "\n",
        "**race**: Black, White, Asian-Pac-Islander, Amer-Indian-Eskimo, Other(categorical)\n",
        "\n",
        "**sex**: Female, Male.(categorical)\n",
        "\n",
        "**capital-gain**: continuous.\n",
        "\n",
        "**capital-loss**: continuous.\n",
        "\n",
        "**hours-per-week**: continuous.\n",
        "\n",
        "**native-country**: United-States, Cambodia, England, Puerto-Rico, Canada, Germany, Outlying-US(Guam-USVI-etc), India, Japan, Greece, South, China, Cuba, Iran, Honduras, Philippines, Italy, Poland, Jamaica, Vietnam, Mexico, Portugal, Ireland, France, Dominican-Republic, Laos, Ecuador, Taiwan, Haiti, Columbia, Hungary, Guatemala, Nicaragua, Scotland, Thailand, Yugoslavia, El-Salvador, Trinadad&Tobago, Peru, Hong, Holand-Netherlands.\n"
      ]
    },
    {
      "cell_type": "markdown",
      "metadata": {
        "id": "35wU9gTFNhoc",
        "colab_type": "text"
      },
      "source": [
        "### Finding unique values from each coulmn\n",
        "in the below cell i found unique values for each coulmn "
      ]
    },
    {
      "cell_type": "code",
      "metadata": {
        "id": "E7U-v_4iWDGy",
        "colab_type": "code",
        "colab": {}
      },
      "source": [
        "unique_values = []\n",
        "features = data.columns\n",
        "for feature in features :\n",
        "    unique = data[feature].unique().shape[0]"
      ],
      "execution_count": 0,
      "outputs": []
    },
    {
      "cell_type": "markdown",
      "metadata": {
        "id": "n263LtLgN9l5",
        "colab_type": "text"
      },
      "source": [
        "### Division of categorical and continuous features\n",
        "in the below cell i have divided all features into continuous and categorical features"
      ]
    },
    {
      "cell_type": "code",
      "metadata": {
        "id": "910y6wg1Yud3",
        "colab_type": "code",
        "outputId": "af0fcceb-3271-4171-9bf4-a756443a0579",
        "colab": {
          "base_uri": "https://localhost:8080/",
          "height": 72
        }
      },
      "source": [
        "Numerical_Features = data._get_numeric_data().columns\n",
        "list1 = []\n",
        "list1.append(Numerical_Features[1])\n",
        "Continuous_Features = set(Numerical_Features) - set(list1)\n",
        "Categorical_Features = set(features) - set(Numerical_Features) \n",
        "Categorical_Features.update(list1)\n",
        "print(\"Continuous features are {}\".format(Continuous_Features))\n",
        "print(\"categorical features are {}\".format(Categorical_Features))"
      ],
      "execution_count": 81,
      "outputs": [
        {
          "output_type": "stream",
          "text": [
            "Continuous features are {'age', 'hours-per-week', 'capital-loss', 'capital-gain'}\n",
            "categorical features are {'income', 'relationship', 'education-num', 'occupation', 'native-country', 'education_level', 'marital-status', 'workclass', 'race', 'sex'}\n"
          ],
          "name": "stdout"
        }
      ]
    },
    {
      "cell_type": "markdown",
      "metadata": {
        "id": "XJeq3ypvOh-B",
        "colab_type": "text"
      },
      "source": [
        "### preparation of data quality report\n",
        "In the below cells I have prepared data quality report table\n"
      ]
    },
    {
      "cell_type": "code",
      "metadata": {
        "id": "XmrA2SwndLXf",
        "colab_type": "code",
        "colab": {}
      },
      "source": [
        "# below code is used to found number of elements in each column\n",
        "count_values =[]\n",
        "for feature in Continuous_Features :\n",
        "    count_values.append(data[feature].count())\n",
        "\n",
        "\n",
        "# below code is used to found number of mising values  in each column\n",
        "mssing_values = data.isna()\n",
        "missing_values_count = mssing_values.sum()\n",
        "missing_values_percent_list = []\n",
        "for feature in Continuous_Features :\n",
        "    missing_values_percent_list.append((missing_values_count[feature]/data.shape[0])*100)\n",
        "missing_values_percent_list\n",
        "\n",
        "\n",
        "# Below code is used to found unique values in the columns\n",
        "Con_unique_values = []\n",
        "for feature in Continuous_Features :\n",
        "    unique = data[feature].unique().shape[0]\n",
        "    Con_unique_values.append(unique)\n",
        "\n",
        "\n",
        "# finding the minimum value in the columns\n",
        "minimum_values = data[Continuous_Features].min()\n",
        "\n",
        "# finding the 25th quartile in the columns\n",
        "q1 = data[Continuous_Features].quantile(0.25)\n",
        "\n",
        "# finding the mean in the columns\n",
        "mean_values = data[Continuous_Features].mean()\n",
        "\n",
        "# finding the median in the coumns\n",
        "median_values = data[Continuous_Features].median()\n",
        "\n",
        "# finding the 75th quartile in the columns\n",
        "q3 = data[Continuous_Features].quantile(0.75)\n",
        "\n",
        "# finding the maximum value in the columns\n",
        "maximum_values = data[Continuous_Features].max()\n",
        "\n",
        "# finding the standard deviation in the columns\n",
        "Standatrd_deviation = data[Continuous_Features].std()"
      ],
      "execution_count": 0,
      "outputs": []
    },
    {
      "cell_type": "code",
      "metadata": {
        "id": "gEj_NwzUgSkD",
        "colab_type": "code",
        "outputId": "7db6d153-45e9-4dfb-9275-714dfc2e4865",
        "colab": {
          "base_uri": "https://localhost:8080/",
          "height": 220
        }
      },
      "source": [
        "# formation of data quality report and display the data quality report\n",
        "Continuous_Features_ABT = pd.DataFrame(data = Continuous_Features,columns=['feature'] )\n",
        "Continuous_Features_ABT['count'] = count_values\n",
        "Continuous_Features_ABT['missing values(%)'] = missing_values_percent_list\n",
        "Continuous_Features_ABT['Unique values'] =  Con_unique_values\n",
        "Continuous_Features_ABT['minimum value'] = minimum_values.values\n",
        "Continuous_Features_ABT['1ST Quartile'] = q1.values\n",
        "Continuous_Features_ABT['mean'] = mean_values.values\n",
        "Continuous_Features_ABT['median'] = median_values.values\n",
        "Continuous_Features_ABT['3RD Quartile'] = q3.values\n",
        "Continuous_Features_ABT['maximum value'] = maximum_values.values\n",
        "Continuous_Features_ABT['standard deviation'] = Standatrd_deviation.values\n",
        "print(\"Data Quality Report for Continuous features\")\n",
        "display(Continuous_Features_ABT)"
      ],
      "execution_count": 83,
      "outputs": [
        {
          "output_type": "stream",
          "text": [
            "Data Quality Report for Continuous features\n"
          ],
          "name": "stdout"
        },
        {
          "output_type": "display_data",
          "data": {
            "text/html": [
              "<div>\n",
              "<style scoped>\n",
              "    .dataframe tbody tr th:only-of-type {\n",
              "        vertical-align: middle;\n",
              "    }\n",
              "\n",
              "    .dataframe tbody tr th {\n",
              "        vertical-align: top;\n",
              "    }\n",
              "\n",
              "    .dataframe thead th {\n",
              "        text-align: right;\n",
              "    }\n",
              "</style>\n",
              "<table border=\"1\" class=\"dataframe\">\n",
              "  <thead>\n",
              "    <tr style=\"text-align: right;\">\n",
              "      <th></th>\n",
              "      <th>feature</th>\n",
              "      <th>count</th>\n",
              "      <th>missing values(%)</th>\n",
              "      <th>Unique values</th>\n",
              "      <th>minimum value</th>\n",
              "      <th>1ST Quartile</th>\n",
              "      <th>mean</th>\n",
              "      <th>median</th>\n",
              "      <th>3RD Quartile</th>\n",
              "      <th>maximum value</th>\n",
              "      <th>standard deviation</th>\n",
              "    </tr>\n",
              "  </thead>\n",
              "  <tbody>\n",
              "    <tr>\n",
              "      <th>0</th>\n",
              "      <td>age</td>\n",
              "      <td>45222</td>\n",
              "      <td>0.0</td>\n",
              "      <td>74</td>\n",
              "      <td>17.0</td>\n",
              "      <td>28.0</td>\n",
              "      <td>38.547941</td>\n",
              "      <td>37.0</td>\n",
              "      <td>47.0</td>\n",
              "      <td>90.0</td>\n",
              "      <td>13.217870</td>\n",
              "    </tr>\n",
              "    <tr>\n",
              "      <th>1</th>\n",
              "      <td>hours-per-week</td>\n",
              "      <td>45222</td>\n",
              "      <td>0.0</td>\n",
              "      <td>96</td>\n",
              "      <td>1.0</td>\n",
              "      <td>40.0</td>\n",
              "      <td>40.938017</td>\n",
              "      <td>40.0</td>\n",
              "      <td>45.0</td>\n",
              "      <td>99.0</td>\n",
              "      <td>12.007508</td>\n",
              "    </tr>\n",
              "    <tr>\n",
              "      <th>2</th>\n",
              "      <td>capital-loss</td>\n",
              "      <td>45222</td>\n",
              "      <td>0.0</td>\n",
              "      <td>97</td>\n",
              "      <td>0.0</td>\n",
              "      <td>0.0</td>\n",
              "      <td>88.595418</td>\n",
              "      <td>0.0</td>\n",
              "      <td>0.0</td>\n",
              "      <td>4356.0</td>\n",
              "      <td>404.956092</td>\n",
              "    </tr>\n",
              "    <tr>\n",
              "      <th>3</th>\n",
              "      <td>capital-gain</td>\n",
              "      <td>45222</td>\n",
              "      <td>0.0</td>\n",
              "      <td>121</td>\n",
              "      <td>0.0</td>\n",
              "      <td>0.0</td>\n",
              "      <td>1101.430344</td>\n",
              "      <td>0.0</td>\n",
              "      <td>0.0</td>\n",
              "      <td>99999.0</td>\n",
              "      <td>7506.430084</td>\n",
              "    </tr>\n",
              "  </tbody>\n",
              "</table>\n",
              "</div>"
            ],
            "text/plain": [
              "          feature  count  ...  maximum value  standard deviation\n",
              "0             age  45222  ...           90.0           13.217870\n",
              "1  hours-per-week  45222  ...           99.0           12.007508\n",
              "2    capital-loss  45222  ...         4356.0          404.956092\n",
              "3    capital-gain  45222  ...        99999.0         7506.430084\n",
              "\n",
              "[4 rows x 11 columns]"
            ]
          },
          "metadata": {
            "tags": []
          }
        }
      ]
    },
    {
      "cell_type": "code",
      "metadata": {
        "id": "krwBt9si07ff",
        "colab_type": "code",
        "colab": {}
      },
      "source": [
        "# finding number of values in the columns\n",
        "count_values =[]\n",
        "for feature in Categorical_Features :\n",
        "    count_values.append(data[feature].count())\n",
        "\n",
        "\n",
        "# findng missing values in the columns\n",
        "mssing_values = data.isna()\n",
        "missing_values_count = mssing_values.sum()\n",
        "missing_values_percent_list = []\n",
        "for feature in Categorical_Features :\n",
        "    missing_values_percent_list.append((missing_values_count[feature]/data.shape[0])*100)\n",
        "missing_values_percent_list\n",
        "\n",
        "# finding unique values in the categorical columns\n",
        "Cat_unique_values = []\n",
        "for feature in Categorical_Features :\n",
        "    unique = data[feature].unique().shape[0]\n",
        "    Cat_unique_values.append(unique)\n",
        "\n",
        "# finding mode-1 in the categorical columns    \n",
        "mode_values1 = []\n",
        "\n",
        "# finding mode-1 frequency in the categorical columns\n",
        "mode_freq_values1 = []\n",
        "\n",
        "# finding mode-1 percentage in the categorical columns\n",
        "mode1_prec_values = []\n",
        "\n",
        "# finding mode-2  in the categorical columns\n",
        "mode_values2 = []\n",
        "\n",
        "# finding mode 2 frequency in the categorical columns\n",
        "mode_freq_values2 = []\n",
        "\n",
        "# finding mode-2 percentage in the categorical columns\n",
        "mode2_precen_values = []\n",
        "\n",
        "new_data = data\n",
        "Cate_df = new_data.drop(columns= Continuous_Features)\n",
        "for feature in Categorical_Features :\n",
        "    unique_value_count = new_data[feature].value_counts()\n",
        "    mode_values1.append(unique_value_count.index[0])\n",
        "    mode_values2.append(unique_value_count.index[1])\n",
        "    mode_freq_values1.append(unique_value_count.values[0])\n",
        "    mode_freq_values2.append(unique_value_count.values[1])\n",
        "    mode1_prec_values.append((unique_value_count.values[0]/data.shape[0])*100)\n",
        "    mode2_precen_values.append((unique_value_count.values[1]/data.shape[0])*100)\n",
        "\n",
        "    "
      ],
      "execution_count": 0,
      "outputs": []
    },
    {
      "cell_type": "code",
      "metadata": {
        "id": "oJs1WtJljXKy",
        "colab_type": "code",
        "outputId": "507d308e-6adb-43cb-bcb6-e24857fd1700",
        "colab": {
          "base_uri": "https://localhost:8080/",
          "height": 418
        }
      },
      "source": [
        "\n",
        "# formation of data quality report and displaying data quality report \n",
        "Categorical_Features_ABT = pd.DataFrame(data = Categorical_Features,columns=['feature'] )\n",
        "Categorical_Features_ABT['count'] = count_values\n",
        "Categorical_Features_ABT['missing values(%)'] = missing_values_percent_list\n",
        "Categorical_Features_ABT['mode'] =  mode_values1\n",
        "Categorical_Features_ABT['mode frequency'] =  mode_freq_values1\n",
        "Categorical_Features_ABT['mode percentage'] =  mode1_prec_values\n",
        "Categorical_Features_ABT['2nd mode'] =  mode_values2\n",
        "Categorical_Features_ABT['2nd mode frequency'] =  mode_freq_values2\n",
        "Categorical_Features_ABT['2nd mode percentage'] =  mode2_precen_values\n",
        "print('Data Quality Report for Categorical Features ')\n",
        "display(Categorical_Features_ABT)"
      ],
      "execution_count": 85,
      "outputs": [
        {
          "output_type": "stream",
          "text": [
            "Data Quality Report for Categorical Features \n"
          ],
          "name": "stdout"
        },
        {
          "output_type": "display_data",
          "data": {
            "text/html": [
              "<div>\n",
              "<style scoped>\n",
              "    .dataframe tbody tr th:only-of-type {\n",
              "        vertical-align: middle;\n",
              "    }\n",
              "\n",
              "    .dataframe tbody tr th {\n",
              "        vertical-align: top;\n",
              "    }\n",
              "\n",
              "    .dataframe thead th {\n",
              "        text-align: right;\n",
              "    }\n",
              "</style>\n",
              "<table border=\"1\" class=\"dataframe\">\n",
              "  <thead>\n",
              "    <tr style=\"text-align: right;\">\n",
              "      <th></th>\n",
              "      <th>feature</th>\n",
              "      <th>count</th>\n",
              "      <th>missing values(%)</th>\n",
              "      <th>mode</th>\n",
              "      <th>mode frequency</th>\n",
              "      <th>mode percentage</th>\n",
              "      <th>2nd mode</th>\n",
              "      <th>2nd mode frequency</th>\n",
              "      <th>2nd mode percentage</th>\n",
              "    </tr>\n",
              "  </thead>\n",
              "  <tbody>\n",
              "    <tr>\n",
              "      <th>0</th>\n",
              "      <td>income</td>\n",
              "      <td>45222</td>\n",
              "      <td>0.0</td>\n",
              "      <td>&lt;=50K</td>\n",
              "      <td>34014</td>\n",
              "      <td>75.215603</td>\n",
              "      <td>&gt;50K</td>\n",
              "      <td>11208</td>\n",
              "      <td>24.784397</td>\n",
              "    </tr>\n",
              "    <tr>\n",
              "      <th>1</th>\n",
              "      <td>relationship</td>\n",
              "      <td>45222</td>\n",
              "      <td>0.0</td>\n",
              "      <td>Husband</td>\n",
              "      <td>18666</td>\n",
              "      <td>41.276370</td>\n",
              "      <td>Not-in-family</td>\n",
              "      <td>11702</td>\n",
              "      <td>25.876786</td>\n",
              "    </tr>\n",
              "    <tr>\n",
              "      <th>2</th>\n",
              "      <td>education-num</td>\n",
              "      <td>45222</td>\n",
              "      <td>0.0</td>\n",
              "      <td>9</td>\n",
              "      <td>14783</td>\n",
              "      <td>32.689841</td>\n",
              "      <td>10</td>\n",
              "      <td>9899</td>\n",
              "      <td>21.889788</td>\n",
              "    </tr>\n",
              "    <tr>\n",
              "      <th>3</th>\n",
              "      <td>occupation</td>\n",
              "      <td>45222</td>\n",
              "      <td>0.0</td>\n",
              "      <td>Craft-repair</td>\n",
              "      <td>6020</td>\n",
              "      <td>13.312105</td>\n",
              "      <td>Prof-specialty</td>\n",
              "      <td>6008</td>\n",
              "      <td>13.285569</td>\n",
              "    </tr>\n",
              "    <tr>\n",
              "      <th>4</th>\n",
              "      <td>native-country</td>\n",
              "      <td>45222</td>\n",
              "      <td>0.0</td>\n",
              "      <td>United-States</td>\n",
              "      <td>41292</td>\n",
              "      <td>91.309540</td>\n",
              "      <td>Mexico</td>\n",
              "      <td>903</td>\n",
              "      <td>1.996816</td>\n",
              "    </tr>\n",
              "    <tr>\n",
              "      <th>5</th>\n",
              "      <td>education_level</td>\n",
              "      <td>45222</td>\n",
              "      <td>0.0</td>\n",
              "      <td>HS-grad</td>\n",
              "      <td>14783</td>\n",
              "      <td>32.689841</td>\n",
              "      <td>Some-college</td>\n",
              "      <td>9899</td>\n",
              "      <td>21.889788</td>\n",
              "    </tr>\n",
              "    <tr>\n",
              "      <th>6</th>\n",
              "      <td>marital-status</td>\n",
              "      <td>45222</td>\n",
              "      <td>0.0</td>\n",
              "      <td>Married-civ-spouse</td>\n",
              "      <td>21055</td>\n",
              "      <td>46.559197</td>\n",
              "      <td>Never-married</td>\n",
              "      <td>14598</td>\n",
              "      <td>32.280748</td>\n",
              "    </tr>\n",
              "    <tr>\n",
              "      <th>7</th>\n",
              "      <td>workclass</td>\n",
              "      <td>45222</td>\n",
              "      <td>0.0</td>\n",
              "      <td>Private</td>\n",
              "      <td>33307</td>\n",
              "      <td>73.652205</td>\n",
              "      <td>Self-emp-not-inc</td>\n",
              "      <td>3796</td>\n",
              "      <td>8.394144</td>\n",
              "    </tr>\n",
              "    <tr>\n",
              "      <th>8</th>\n",
              "      <td>race</td>\n",
              "      <td>45222</td>\n",
              "      <td>0.0</td>\n",
              "      <td>White</td>\n",
              "      <td>38903</td>\n",
              "      <td>86.026713</td>\n",
              "      <td>Black</td>\n",
              "      <td>4228</td>\n",
              "      <td>9.349432</td>\n",
              "    </tr>\n",
              "    <tr>\n",
              "      <th>9</th>\n",
              "      <td>sex</td>\n",
              "      <td>45222</td>\n",
              "      <td>0.0</td>\n",
              "      <td>Male</td>\n",
              "      <td>30527</td>\n",
              "      <td>67.504754</td>\n",
              "      <td>Female</td>\n",
              "      <td>14695</td>\n",
              "      <td>32.495246</td>\n",
              "    </tr>\n",
              "  </tbody>\n",
              "</table>\n",
              "</div>"
            ],
            "text/plain": [
              "           feature  count  ...  2nd mode frequency 2nd mode percentage\n",
              "0           income  45222  ...               11208           24.784397\n",
              "1     relationship  45222  ...               11702           25.876786\n",
              "2    education-num  45222  ...                9899           21.889788\n",
              "3       occupation  45222  ...                6008           13.285569\n",
              "4   native-country  45222  ...                 903            1.996816\n",
              "5  education_level  45222  ...                9899           21.889788\n",
              "6   marital-status  45222  ...               14598           32.280748\n",
              "7        workclass  45222  ...                3796            8.394144\n",
              "8             race  45222  ...                4228            9.349432\n",
              "9              sex  45222  ...               14695           32.495246\n",
              "\n",
              "[10 rows x 9 columns]"
            ]
          },
          "metadata": {
            "tags": []
          }
        }
      ]
    },
    {
      "cell_type": "markdown",
      "metadata": {
        "id": "QrXe_a8gP96y",
        "colab_type": "text"
      },
      "source": [
        "### Outlier Detection and Handling\n",
        "In the below cell i detected Outlier and handled using lower and upper values\n",
        "\n",
        "lower = mean - 3*std\n",
        "\n",
        "upper = mean + 3*std"
      ]
    },
    {
      "cell_type": "code",
      "metadata": {
        "id": "g5pi98SZonsm",
        "colab_type": "code",
        "outputId": "0ffdfbc2-9548-4e73-ad66-51f3ce2c875d",
        "colab": {
          "base_uri": "https://localhost:8080/",
          "height": 190
        }
      },
      "source": [
        "# finding outliers and handling outliers\n",
        "for feature in Continuous_Features :\n",
        "    mean  = data[feature].mean()\n",
        "    std = data[feature].std()\n",
        "    lower = mean - 3*std\n",
        "    upper = mean + 3*std\n",
        "    d = df.shape[0]\n",
        "    for i in   range(d):\n",
        "        if data[feature][i] < lower  :\n",
        "           data[feature][i] = mean\n",
        "        elif data[feature][i] > upper :\n",
        "             data[feature][i] = mean\n",
        "           "
      ],
      "execution_count": 86,
      "outputs": [
        {
          "output_type": "stream",
          "text": [
            "/usr/local/lib/python3.6/dist-packages/ipykernel_launcher.py:11: SettingWithCopyWarning: \n",
            "A value is trying to be set on a copy of a slice from a DataFrame\n",
            "\n",
            "See the caveats in the documentation: https://pandas.pydata.org/pandas-docs/stable/user_guide/indexing.html#returning-a-view-versus-a-copy\n",
            "  # This is added back by InteractiveShellApp.init_path()\n",
            "/usr/local/lib/python3.6/dist-packages/ipykernel_launcher.py:9: SettingWithCopyWarning: \n",
            "A value is trying to be set on a copy of a slice from a DataFrame\n",
            "\n",
            "See the caveats in the documentation: https://pandas.pydata.org/pandas-docs/stable/user_guide/indexing.html#returning-a-view-versus-a-copy\n",
            "  if __name__ == '__main__':\n"
          ],
          "name": "stderr"
        }
      ]
    },
    {
      "cell_type": "code",
      "metadata": {
        "id": "5sGodwhTdRpB",
        "colab_type": "code",
        "colab": {}
      },
      "source": [
        "# findng and handling mssing values\n",
        "def Handling_missing_values(feature) :\n",
        "    x = mssing_values.shape[0]\n",
        "    for i in range(x) :\n",
        "        if mssing_values[feature][i] == True :\n",
        "           if feature in Continuous_Features :\n",
        "              data[feature][i] = data[feature].mean()\n",
        "           else: \n",
        "               data[feature][i] = data[feature].mode()\n",
        "features = data.columns\n",
        "for feature in features :\n",
        "    Handling_missing_values(feature)"
      ],
      "execution_count": 0,
      "outputs": []
    },
    {
      "cell_type": "markdown",
      "metadata": {
        "id": "r05IR39kYqHh",
        "colab_type": "text"
      },
      "source": [
        "## visualization"
      ]
    },
    {
      "cell_type": "code",
      "metadata": {
        "id": "ow_lTxLDK5XY",
        "colab_type": "code",
        "outputId": "719563ba-3874-413b-cd17-0079268250fe",
        "colab": {
          "base_uri": "https://localhost:8080/",
          "height": 1000
        }
      },
      "source": [
        "for feature in features :\n",
        "    print(feature)\n",
        "    plt.hist(data[feature],bins = 20,align='right')\n",
        "    plt.ylim((0, 10000))\n",
        "    # plt.yticks([0, 500, 1000, 1500, 2000])\n",
        "    plt.xticks( rotation='vertical')\n",
        "    plt.show()"
      ],
      "execution_count": 88,
      "outputs": [
        {
          "output_type": "stream",
          "text": [
            "age\n"
          ],
          "name": "stdout"
        },
        {
          "output_type": "display_data",
          "data": {
            "image/png": "[encoded data removed]",
            "text/plain": [
              "<Figure size 432x288 with 1 Axes>"
            ]
          },
          "metadata": {
            "tags": [],
            "needs_background": "light"
          }
        },
        {
          "output_type": "stream",
          "text": [
            "workclass\n"
          ],
          "name": "stdout"
        },
        {
          "output_type": "display_data",
          "data": {
            "image/png": "[encoded data removed]",
            "text/plain": [
              "<Figure size 432x288 with 1 Axes>"
            ]
          },
          "metadata": {
            "tags": [],
            "needs_background": "light"
          }
        },
        {
          "output_type": "stream",
          "text": [
            "education_level\n"
          ],
          "name": "stdout"
        },
        {
          "output_type": "display_data",
          "data": {
            "image/png": "[encoded data removed]",
            "text/plain": [
              "<Figure size 432x288 with 1 Axes>"
            ]
          },
          "metadata": {
            "tags": [],
            "needs_background": "light"
          }
        },
        {
          "output_type": "stream",
          "text": [
            "education-num\n"
          ],
          "name": "stdout"
        },
        {
          "output_type": "display_data",
          "data": {
            "image/png": "[encoded data removed]",
            "text/plain": [
              "<Figure size 432x288 with 1 Axes>"
            ]
          },
          "metadata": {
            "tags": [],
            "needs_background": "light"
          }
        },
        {
          "output_type": "stream",
          "text": [
            "marital-status\n"
          ],
          "name": "stdout"
        },
        {
          "output_type": "display_data",
          "data": {
            "image/png": "[encoded data removed]",
            "text/plain": [
              "<Figure size 432x288 with 1 Axes>"
            ]
          },
          "metadata": {
            "tags": [],
            "needs_background": "light"
          }
        },
        {
          "output_type": "stream",
          "text": [
            "occupation\n"
          ],
          "name": "stdout"
        },
        {
          "output_type": "display_data",
          "data": {
            "image/png": "[encoded data removed]",
            "text/plain": [
              "<Figure size 432x288 with 1 Axes>"
            ]
          },
          "metadata": {
            "tags": [],
            "needs_background": "light"
          }
        },
        {
          "output_type": "stream",
          "text": [
            "relationship\n"
          ],
          "name": "stdout"
        },
        {
          "output_type": "display_data",
          "data": {
            "image/png": "[encoded data removed]",
            "text/plain": [
              "<Figure size 432x288 with 1 Axes>"
            ]
          },
          "metadata": {
            "tags": [],
            "needs_background": "light"
          }
        },
        {
          "output_type": "stream",
          "text": [
            "race\n"
          ],
          "name": "stdout"
        },
        {
          "output_type": "display_data",
          "data": {
            "image/png": "[encoded data removed]",
            "text/plain": [
              "<Figure size 432x288 with 1 Axes>"
            ]
          },
          "metadata": {
            "tags": [],
            "needs_background": "light"
          }
        },
        {
          "output_type": "stream",
          "text": [
            "sex\n"
          ],
          "name": "stdout"
        },
        {
          "output_type": "display_data",
          "data": {
            "image/png": "[encoded data removed]",
            "text/plain": [
              "<Figure size 432x288 with 1 Axes>"
            ]
          },
          "metadata": {
            "tags": [],
            "needs_background": "light"
          }
        },
        {
          "output_type": "stream",
          "text": [
            "capital-gain\n"
          ],
          "name": "stdout"
        },
        {
          "output_type": "display_data",
          "data": {
            "image/png": "[encoded data removed]",
            "text/plain": [
              "<Figure size 432x288 with 1 Axes>"
            ]
          },
          "metadata": {
            "tags": [],
            "needs_background": "light"
          }
        },
        {
          "output_type": "stream",
          "text": [
            "capital-loss\n"
          ],
          "name": "stdout"
        },
        {
          "output_type": "display_data",
          "data": {
            "image/png": "[encoded data removed]",
            "text/plain": [
              "<Figure size 432x288 with 1 Axes>"
            ]
          },
          "metadata": {
            "tags": [],
            "needs_background": "light"
          }
        },
        {
          "output_type": "stream",
          "text": [
            "hours-per-week\n"
          ],
          "name": "stdout"
        },
        {
          "output_type": "display_data",
          "data": {
            "image/png": "[encoded data removed]",
            "text/plain": [
              "<Figure size 432x288 with 1 Axes>"
            ]
          },
          "metadata": {
            "tags": [],
            "needs_background": "light"
          }
        },
        {
          "output_type": "stream",
          "text": [
            "native-country\n"
          ],
          "name": "stdout"
        },
        {
          "output_type": "display_data",
          "data": {
            "image/png": "[encoded data removed]",
            "text/plain": [
              "<Figure size 432x288 with 1 Axes>"
            ]
          },
          "metadata": {
            "tags": [],
            "needs_background": "light"
          }
        },
        {
          "output_type": "stream",
          "text": [
            "income\n"
          ],
          "name": "stdout"
        },
        {
          "output_type": "display_data",
          "data": {
            "image/png": "[encoded data removed]",
            "text/plain": [
              "<Figure size 432x288 with 1 Axes>"
            ]
          },
          "metadata": {
            "tags": [],
            "needs_background": "light"
          }
        }
      ]
    },
    {
      "cell_type": "markdown",
      "metadata": {
        "id": "g3Ol4iM2ZLtx",
        "colab_type": "text"
      },
      "source": [
        "### normalization of data\n",
        "capital loss and capital gain are highly skewed not uniform we can normalize data and convert into uniform data \n",
        "\n",
        "I would normalize the data using MinMaxScaler using sklearn library"
      ]
    },
    {
      "cell_type": "code",
      "metadata": {
        "id": "9N_j6PME3uYj",
        "colab_type": "code",
        "outputId": "4d8e9997-f158-4393-c755-ec6978fc9131",
        "colab": {
          "base_uri": "https://localhost:8080/",
          "height": 319
        }
      },
      "source": [
        "\n",
        "from sklearn.preprocessing import MinMaxScaler\n",
        "scaler = MinMaxScaler() \n",
        "discriptive_features = data.drop('income',axis =1)\n",
        "discriptive_DF = pd.DataFrame(data = discriptive_features)\n",
        "numerical = ['age', 'education-num', 'capital-gain', 'capital-loss', 'hours-per-week']\n",
        "normalized_DF = pd.DataFrame(data = discriptive_DF)\n",
        "normalized_DF[numerical] = scaler.fit_transform(discriptive_DF[numerical])\n",
        "display(normalized_DF.head(n = 5))\n",
        "normalized_DF.to_csv('normalized_dataset.csv')"
      ],
      "execution_count": 89,
      "outputs": [
        {
          "output_type": "display_data",
          "data": {
            "text/html": [
              "<div>\n",
              "<style scoped>\n",
              "    .dataframe tbody tr th:only-of-type {\n",
              "        vertical-align: middle;\n",
              "    }\n",
              "\n",
              "    .dataframe tbody tr th {\n",
              "        vertical-align: top;\n",
              "    }\n",
              "\n",
              "    .dataframe thead th {\n",
              "        text-align: right;\n",
              "    }\n",
              "</style>\n",
              "<table border=\"1\" class=\"dataframe\">\n",
              "  <thead>\n",
              "    <tr style=\"text-align: right;\">\n",
              "      <th></th>\n",
              "      <th>age</th>\n",
              "      <th>workclass</th>\n",
              "      <th>education_level</th>\n",
              "      <th>education-num</th>\n",
              "      <th>marital-status</th>\n",
              "      <th>occupation</th>\n",
              "      <th>relationship</th>\n",
              "      <th>race</th>\n",
              "      <th>sex</th>\n",
              "      <th>capital-gain</th>\n",
              "      <th>capital-loss</th>\n",
              "      <th>hours-per-week</th>\n",
              "      <th>native-country</th>\n",
              "    </tr>\n",
              "  </thead>\n",
              "  <tbody>\n",
              "    <tr>\n",
              "      <th>0</th>\n",
              "      <td>0.360656</td>\n",
              "      <td>State-gov</td>\n",
              "      <td>Bachelors</td>\n",
              "      <td>0.800000</td>\n",
              "      <td>Never-married</td>\n",
              "      <td>Adm-clerical</td>\n",
              "      <td>Not-in-family</td>\n",
              "      <td>White</td>\n",
              "      <td>Male</td>\n",
              "      <td>0.098639</td>\n",
              "      <td>0.0</td>\n",
              "      <td>0.492958</td>\n",
              "      <td>United-States</td>\n",
              "    </tr>\n",
              "    <tr>\n",
              "      <th>1</th>\n",
              "      <td>0.540984</td>\n",
              "      <td>Self-emp-not-inc</td>\n",
              "      <td>Bachelors</td>\n",
              "      <td>0.800000</td>\n",
              "      <td>Married-civ-spouse</td>\n",
              "      <td>Exec-managerial</td>\n",
              "      <td>Husband</td>\n",
              "      <td>White</td>\n",
              "      <td>Male</td>\n",
              "      <td>0.000000</td>\n",
              "      <td>0.0</td>\n",
              "      <td>0.112676</td>\n",
              "      <td>United-States</td>\n",
              "    </tr>\n",
              "    <tr>\n",
              "      <th>2</th>\n",
              "      <td>0.344262</td>\n",
              "      <td>Private</td>\n",
              "      <td>HS-grad</td>\n",
              "      <td>0.533333</td>\n",
              "      <td>Divorced</td>\n",
              "      <td>Handlers-cleaners</td>\n",
              "      <td>Not-in-family</td>\n",
              "      <td>White</td>\n",
              "      <td>Male</td>\n",
              "      <td>0.000000</td>\n",
              "      <td>0.0</td>\n",
              "      <td>0.492958</td>\n",
              "      <td>United-States</td>\n",
              "    </tr>\n",
              "    <tr>\n",
              "      <th>3</th>\n",
              "      <td>0.590164</td>\n",
              "      <td>Private</td>\n",
              "      <td>11th</td>\n",
              "      <td>0.400000</td>\n",
              "      <td>Married-civ-spouse</td>\n",
              "      <td>Handlers-cleaners</td>\n",
              "      <td>Husband</td>\n",
              "      <td>Black</td>\n",
              "      <td>Male</td>\n",
              "      <td>0.000000</td>\n",
              "      <td>0.0</td>\n",
              "      <td>0.492958</td>\n",
              "      <td>United-States</td>\n",
              "    </tr>\n",
              "    <tr>\n",
              "      <th>4</th>\n",
              "      <td>0.180328</td>\n",
              "      <td>Private</td>\n",
              "      <td>Bachelors</td>\n",
              "      <td>0.800000</td>\n",
              "      <td>Married-civ-spouse</td>\n",
              "      <td>Prof-specialty</td>\n",
              "      <td>Wife</td>\n",
              "      <td>Black</td>\n",
              "      <td>Female</td>\n",
              "      <td>0.000000</td>\n",
              "      <td>0.0</td>\n",
              "      <td>0.492958</td>\n",
              "      <td>Cuba</td>\n",
              "    </tr>\n",
              "  </tbody>\n",
              "</table>\n",
              "</div>"
            ],
            "text/plain": [
              "        age          workclass  ... hours-per-week  native-country\n",
              "0  0.360656          State-gov  ...       0.492958   United-States\n",
              "1  0.540984   Self-emp-not-inc  ...       0.112676   United-States\n",
              "2  0.344262            Private  ...       0.492958   United-States\n",
              "3  0.590164            Private  ...       0.492958   United-States\n",
              "4  0.180328            Private  ...       0.492958            Cuba\n",
              "\n",
              "[5 rows x 13 columns]"
            ]
          },
          "metadata": {
            "tags": []
          }
        }
      ]
    },
    {
      "cell_type": "markdown",
      "metadata": {
        "id": "98q7emCOhnnp",
        "colab_type": "text"
      },
      "source": [
        "### feature selection \n",
        "I used homework 3 file as library and imported it as fs for feature selection and selected top k highest  imformation gain features  "
      ]
    },
    {
      "cell_type": "code",
      "metadata": {
        "id": "E4jRYUScQwA_",
        "colab_type": "code",
        "colab": {
          "base_uri": "https://localhost:8080/",
          "height": 950
        },
        "outputId": "adc0e66c-5bb6-4d94-a6ed-c6aa5fe5204e"
      },
      "source": [
        "target = 'income'\n",
        "dataset = normalized_DF\n",
        "dataset['income'] = df.income\n",
        "K_features =  fs.IUFS(target, dataset, 10, 'gini')\n",
        "feature_selected_DF = normalized_DF[K_features]\n",
        "feature_selected_DF\n"
      ],
      "execution_count": 90,
      "outputs": [
        {
          "output_type": "display_data",
          "data": {
            "text/html": [
              "<div>\n",
              "<style scoped>\n",
              "    .dataframe tbody tr th:only-of-type {\n",
              "        vertical-align: middle;\n",
              "    }\n",
              "\n",
              "    .dataframe tbody tr th {\n",
              "        vertical-align: top;\n",
              "    }\n",
              "\n",
              "    .dataframe thead th {\n",
              "        text-align: right;\n",
              "    }\n",
              "</style>\n",
              "<table border=\"1\" class=\"dataframe\">\n",
              "  <thead>\n",
              "    <tr style=\"text-align: right;\">\n",
              "      <th></th>\n",
              "      <th>feature</th>\n",
              "      <th>Imformation Gain</th>\n",
              "    </tr>\n",
              "  </thead>\n",
              "  <tbody>\n",
              "    <tr>\n",
              "      <th>0</th>\n",
              "      <td>age</td>\n",
              "      <td>0.038465</td>\n",
              "    </tr>\n",
              "    <tr>\n",
              "      <th>0</th>\n",
              "      <td>workclass</td>\n",
              "      <td>0.009953</td>\n",
              "    </tr>\n",
              "    <tr>\n",
              "      <th>0</th>\n",
              "      <td>education_level</td>\n",
              "      <td>0.049434</td>\n",
              "    </tr>\n",
              "    <tr>\n",
              "      <th>0</th>\n",
              "      <td>education-num</td>\n",
              "      <td>0.049434</td>\n",
              "    </tr>\n",
              "    <tr>\n",
              "      <th>0</th>\n",
              "      <td>marital-status</td>\n",
              "      <td>0.075101</td>\n",
              "    </tr>\n",
              "    <tr>\n",
              "      <th>0</th>\n",
              "      <td>occupation</td>\n",
              "      <td>0.044645</td>\n",
              "    </tr>\n",
              "    <tr>\n",
              "      <th>0</th>\n",
              "      <td>relationship</td>\n",
              "      <td>0.077144</td>\n",
              "    </tr>\n",
              "    <tr>\n",
              "      <th>0</th>\n",
              "      <td>race</td>\n",
              "      <td>0.003729</td>\n",
              "    </tr>\n",
              "    <tr>\n",
              "      <th>0</th>\n",
              "      <td>sex</td>\n",
              "      <td>0.017356</td>\n",
              "    </tr>\n",
              "    <tr>\n",
              "      <th>0</th>\n",
              "      <td>capital-gain</td>\n",
              "      <td>0.064236</td>\n",
              "    </tr>\n",
              "    <tr>\n",
              "      <th>0</th>\n",
              "      <td>capital-loss</td>\n",
              "      <td>0.007696</td>\n",
              "    </tr>\n",
              "    <tr>\n",
              "      <th>0</th>\n",
              "      <td>hours-per-week</td>\n",
              "      <td>0.028616</td>\n",
              "    </tr>\n",
              "    <tr>\n",
              "      <th>0</th>\n",
              "      <td>native-country</td>\n",
              "      <td>0.003760</td>\n",
              "    </tr>\n",
              "  </tbody>\n",
              "</table>\n",
              "</div>"
            ],
            "text/plain": [
              "           feature  Imformation Gain\n",
              "0              age          0.038465\n",
              "0        workclass          0.009953\n",
              "0  education_level          0.049434\n",
              "0    education-num          0.049434\n",
              "0   marital-status          0.075101\n",
              "0       occupation          0.044645\n",
              "0     relationship          0.077144\n",
              "0             race          0.003729\n",
              "0              sex          0.017356\n",
              "0     capital-gain          0.064236\n",
              "0     capital-loss          0.007696\n",
              "0   hours-per-week          0.028616\n",
              "0   native-country          0.003760"
            ]
          },
          "metadata": {
            "tags": []
          }
        },
        {
          "output_type": "execute_result",
          "data": {
            "text/html": [
              "<div>\n",
              "<style scoped>\n",
              "    .dataframe tbody tr th:only-of-type {\n",
              "        vertical-align: middle;\n",
              "    }\n",
              "\n",
              "    .dataframe tbody tr th {\n",
              "        vertical-align: top;\n",
              "    }\n",
              "\n",
              "    .dataframe thead th {\n",
              "        text-align: right;\n",
              "    }\n",
              "</style>\n",
              "<table border=\"1\" class=\"dataframe\">\n",
              "  <thead>\n",
              "    <tr style=\"text-align: right;\">\n",
              "      <th></th>\n",
              "      <th>relationship</th>\n",
              "      <th>marital-status</th>\n",
              "      <th>capital-gain</th>\n",
              "      <th>education_level</th>\n",
              "      <th>education-num</th>\n",
              "      <th>occupation</th>\n",
              "      <th>age</th>\n",
              "      <th>hours-per-week</th>\n",
              "      <th>sex</th>\n",
              "      <th>workclass</th>\n",
              "    </tr>\n",
              "  </thead>\n",
              "  <tbody>\n",
              "    <tr>\n",
              "      <th>0</th>\n",
              "      <td>Not-in-family</td>\n",
              "      <td>Never-married</td>\n",
              "      <td>0.098639</td>\n",
              "      <td>Bachelors</td>\n",
              "      <td>0.800000</td>\n",
              "      <td>Adm-clerical</td>\n",
              "      <td>0.360656</td>\n",
              "      <td>0.492958</td>\n",
              "      <td>Male</td>\n",
              "      <td>State-gov</td>\n",
              "    </tr>\n",
              "    <tr>\n",
              "      <th>1</th>\n",
              "      <td>Husband</td>\n",
              "      <td>Married-civ-spouse</td>\n",
              "      <td>0.000000</td>\n",
              "      <td>Bachelors</td>\n",
              "      <td>0.800000</td>\n",
              "      <td>Exec-managerial</td>\n",
              "      <td>0.540984</td>\n",
              "      <td>0.112676</td>\n",
              "      <td>Male</td>\n",
              "      <td>Self-emp-not-inc</td>\n",
              "    </tr>\n",
              "    <tr>\n",
              "      <th>2</th>\n",
              "      <td>Not-in-family</td>\n",
              "      <td>Divorced</td>\n",
              "      <td>0.000000</td>\n",
              "      <td>HS-grad</td>\n",
              "      <td>0.533333</td>\n",
              "      <td>Handlers-cleaners</td>\n",
              "      <td>0.344262</td>\n",
              "      <td>0.492958</td>\n",
              "      <td>Male</td>\n",
              "      <td>Private</td>\n",
              "    </tr>\n",
              "    <tr>\n",
              "      <th>3</th>\n",
              "      <td>Husband</td>\n",
              "      <td>Married-civ-spouse</td>\n",
              "      <td>0.000000</td>\n",
              "      <td>11th</td>\n",
              "      <td>0.400000</td>\n",
              "      <td>Handlers-cleaners</td>\n",
              "      <td>0.590164</td>\n",
              "      <td>0.492958</td>\n",
              "      <td>Male</td>\n",
              "      <td>Private</td>\n",
              "    </tr>\n",
              "    <tr>\n",
              "      <th>4</th>\n",
              "      <td>Wife</td>\n",
              "      <td>Married-civ-spouse</td>\n",
              "      <td>0.000000</td>\n",
              "      <td>Bachelors</td>\n",
              "      <td>0.800000</td>\n",
              "      <td>Prof-specialty</td>\n",
              "      <td>0.180328</td>\n",
              "      <td>0.492958</td>\n",
              "      <td>Female</td>\n",
              "      <td>Private</td>\n",
              "    </tr>\n",
              "    <tr>\n",
              "      <th>...</th>\n",
              "      <td>...</td>\n",
              "      <td>...</td>\n",
              "      <td>...</td>\n",
              "      <td>...</td>\n",
              "      <td>...</td>\n",
              "      <td>...</td>\n",
              "      <td>...</td>\n",
              "      <td>...</td>\n",
              "      <td>...</td>\n",
              "      <td>...</td>\n",
              "    </tr>\n",
              "    <tr>\n",
              "      <th>45217</th>\n",
              "      <td>Own-child</td>\n",
              "      <td>Never-married</td>\n",
              "      <td>0.000000</td>\n",
              "      <td>Bachelors</td>\n",
              "      <td>0.800000</td>\n",
              "      <td>Prof-specialty</td>\n",
              "      <td>0.262295</td>\n",
              "      <td>0.492958</td>\n",
              "      <td>Male</td>\n",
              "      <td>Private</td>\n",
              "    </tr>\n",
              "    <tr>\n",
              "      <th>45218</th>\n",
              "      <td>Not-in-family</td>\n",
              "      <td>Divorced</td>\n",
              "      <td>0.000000</td>\n",
              "      <td>Bachelors</td>\n",
              "      <td>0.800000</td>\n",
              "      <td>Prof-specialty</td>\n",
              "      <td>0.360656</td>\n",
              "      <td>0.436620</td>\n",
              "      <td>Female</td>\n",
              "      <td>Private</td>\n",
              "    </tr>\n",
              "    <tr>\n",
              "      <th>45219</th>\n",
              "      <td>Husband</td>\n",
              "      <td>Married-civ-spouse</td>\n",
              "      <td>0.000000</td>\n",
              "      <td>Bachelors</td>\n",
              "      <td>0.800000</td>\n",
              "      <td>Prof-specialty</td>\n",
              "      <td>0.344262</td>\n",
              "      <td>0.633803</td>\n",
              "      <td>Male</td>\n",
              "      <td>Private</td>\n",
              "    </tr>\n",
              "    <tr>\n",
              "      <th>45220</th>\n",
              "      <td>Own-child</td>\n",
              "      <td>Divorced</td>\n",
              "      <td>0.247505</td>\n",
              "      <td>Bachelors</td>\n",
              "      <td>0.800000</td>\n",
              "      <td>Adm-clerical</td>\n",
              "      <td>0.442623</td>\n",
              "      <td>0.492958</td>\n",
              "      <td>Male</td>\n",
              "      <td>Private</td>\n",
              "    </tr>\n",
              "    <tr>\n",
              "      <th>45221</th>\n",
              "      <td>Husband</td>\n",
              "      <td>Married-civ-spouse</td>\n",
              "      <td>0.000000</td>\n",
              "      <td>Bachelors</td>\n",
              "      <td>0.800000</td>\n",
              "      <td>Exec-managerial</td>\n",
              "      <td>0.295082</td>\n",
              "      <td>0.774648</td>\n",
              "      <td>Male</td>\n",
              "      <td>Self-emp-inc</td>\n",
              "    </tr>\n",
              "  </tbody>\n",
              "</table>\n",
              "<p>45222 rows × 10 columns</p>\n",
              "</div>"
            ],
            "text/plain": [
              "         relationship       marital-status  ...      sex          workclass\n",
              "0       Not-in-family        Never-married  ...     Male          State-gov\n",
              "1             Husband   Married-civ-spouse  ...     Male   Self-emp-not-inc\n",
              "2       Not-in-family             Divorced  ...     Male            Private\n",
              "3             Husband   Married-civ-spouse  ...     Male            Private\n",
              "4                Wife   Married-civ-spouse  ...   Female            Private\n",
              "...               ...                  ...  ...      ...                ...\n",
              "45217       Own-child        Never-married  ...     Male            Private\n",
              "45218   Not-in-family             Divorced  ...   Female            Private\n",
              "45219         Husband   Married-civ-spouse  ...     Male            Private\n",
              "45220       Own-child             Divorced  ...     Male            Private\n",
              "45221         Husband   Married-civ-spouse  ...     Male       Self-emp-inc\n",
              "\n",
              "[45222 rows x 10 columns]"
            ]
          },
          "metadata": {
            "tags": []
          },
          "execution_count": 90
        }
      ]
    },
    {
      "cell_type": "markdown",
      "metadata": {
        "id": "p-LEcv1m9KWd",
        "colab_type": "text"
      },
      "source": [
        "### feature tranformation"
      ]
    },
    {
      "cell_type": "code",
      "metadata": {
        "id": "1VkxTfM6FIzJ",
        "colab_type": "code",
        "outputId": "3b3e02da-6141-40e1-fbf3-ea0f74b42e19",
        "colab": {
          "base_uri": "https://localhost:8080/",
          "height": 1000
        }
      },
      "source": [
        "Feature_Transformed_DF = pd.get_dummies(feature_selected_DF)\n",
        "Feature_Transformed_DF.info()"
      ],
      "execution_count": 91,
      "outputs": [
        {
          "output_type": "stream",
          "text": [
            "<class 'pandas.core.frame.DataFrame'>\n",
            "RangeIndex: 45222 entries, 0 to 45221\n",
            "Data columns (total 56 columns):\n",
            " #   Column                                 Non-Null Count  Dtype  \n",
            "---  ------                                 --------------  -----  \n",
            " 0   capital-gain                           45222 non-null  float64\n",
            " 1   education-num                          45222 non-null  float64\n",
            " 2   age                                    45222 non-null  float64\n",
            " 3   hours-per-week                         45222 non-null  float64\n",
            " 4   relationship_ Husband                  45222 non-null  uint8  \n",
            " 5   relationship_ Not-in-family            45222 non-null  uint8  \n",
            " 6   relationship_ Other-relative           45222 non-null  uint8  \n",
            " 7   relationship_ Own-child                45222 non-null  uint8  \n",
            " 8   relationship_ Unmarried                45222 non-null  uint8  \n",
            " 9   relationship_ Wife                     45222 non-null  uint8  \n",
            " 10  marital-status_ Divorced               45222 non-null  uint8  \n",
            " 11  marital-status_ Married-AF-spouse      45222 non-null  uint8  \n",
            " 12  marital-status_ Married-civ-spouse     45222 non-null  uint8  \n",
            " 13  marital-status_ Married-spouse-absent  45222 non-null  uint8  \n",
            " 14  marital-status_ Never-married          45222 non-null  uint8  \n",
            " 15  marital-status_ Separated              45222 non-null  uint8  \n",
            " 16  marital-status_ Widowed                45222 non-null  uint8  \n",
            " 17  education_level_ 10th                  45222 non-null  uint8  \n",
            " 18  education_level_ 11th                  45222 non-null  uint8  \n",
            " 19  education_level_ 12th                  45222 non-null  uint8  \n",
            " 20  education_level_ 1st-4th               45222 non-null  uint8  \n",
            " 21  education_level_ 5th-6th               45222 non-null  uint8  \n",
            " 22  education_level_ 7th-8th               45222 non-null  uint8  \n",
            " 23  education_level_ 9th                   45222 non-null  uint8  \n",
            " 24  education_level_ Assoc-acdm            45222 non-null  uint8  \n",
            " 25  education_level_ Assoc-voc             45222 non-null  uint8  \n",
            " 26  education_level_ Bachelors             45222 non-null  uint8  \n",
            " 27  education_level_ Doctorate             45222 non-null  uint8  \n",
            " 28  education_level_ HS-grad               45222 non-null  uint8  \n",
            " 29  education_level_ Masters               45222 non-null  uint8  \n",
            " 30  education_level_ Preschool             45222 non-null  uint8  \n",
            " 31  education_level_ Prof-school           45222 non-null  uint8  \n",
            " 32  education_level_ Some-college          45222 non-null  uint8  \n",
            " 33  occupation_ Adm-clerical               45222 non-null  uint8  \n",
            " 34  occupation_ Armed-Forces               45222 non-null  uint8  \n",
            " 35  occupation_ Craft-repair               45222 non-null  uint8  \n",
            " 36  occupation_ Exec-managerial            45222 non-null  uint8  \n",
            " 37  occupation_ Farming-fishing            45222 non-null  uint8  \n",
            " 38  occupation_ Handlers-cleaners          45222 non-null  uint8  \n",
            " 39  occupation_ Machine-op-inspct          45222 non-null  uint8  \n",
            " 40  occupation_ Other-service              45222 non-null  uint8  \n",
            " 41  occupation_ Priv-house-serv            45222 non-null  uint8  \n",
            " 42  occupation_ Prof-specialty             45222 non-null  uint8  \n",
            " 43  occupation_ Protective-serv            45222 non-null  uint8  \n",
            " 44  occupation_ Sales                      45222 non-null  uint8  \n",
            " 45  occupation_ Tech-support               45222 non-null  uint8  \n",
            " 46  occupation_ Transport-moving           45222 non-null  uint8  \n",
            " 47  sex_ Female                            45222 non-null  uint8  \n",
            " 48  sex_ Male                              45222 non-null  uint8  \n",
            " 49  workclass_ Federal-gov                 45222 non-null  uint8  \n",
            " 50  workclass_ Local-gov                   45222 non-null  uint8  \n",
            " 51  workclass_ Private                     45222 non-null  uint8  \n",
            " 52  workclass_ Self-emp-inc                45222 non-null  uint8  \n",
            " 53  workclass_ Self-emp-not-inc            45222 non-null  uint8  \n",
            " 54  workclass_ State-gov                   45222 non-null  uint8  \n",
            " 55  workclass_ Without-pay                 45222 non-null  uint8  \n",
            "dtypes: float64(4), uint8(52)\n",
            "memory usage: 3.6 MB\n"
          ],
          "name": "stdout"
        }
      ]
    },
    {
      "cell_type": "code",
      "metadata": {
        "id": "F8MvkFOB4nye",
        "colab_type": "code",
        "colab": {}
      },
      "source": [
        "Feature_Transformed_DF['income'] = df.income\n",
        "Feature_Transformed_DF.to_csv('Chirumamilla_pp.csv')"
      ],
      "execution_count": 0,
      "outputs": []
    },
    {
      "cell_type": "code",
      "metadata": {
        "id": "bSttd5kO5AAl",
        "colab_type": "code",
        "colab": {
          "base_uri": "https://localhost:8080/",
          "height": 52
        },
        "outputId": "5954f700-4e4f-4f2b-dee7-1cd4a78ada48"
      },
      "source": [
        "!ls"
      ],
      "execution_count": 19,
      "outputs": [
        {
          "output_type": "stream",
          "text": [
            "Chirumamilla_Original.csv  drive\t normalized_dataset.csv  sample_data\n",
            "Chirumamilla_pp.csv\t   hw3_fds_3.py  __pycache__\n"
          ],
          "name": "stdout"
        }
      ]
    },
    {
      "cell_type": "code",
      "metadata": {
        "id": "0CX4XNKh5Aw8",
        "colab_type": "code",
        "colab": {}
      },
      "source": [
        ""
      ],
      "execution_count": 0,
      "outputs": []
    }
  ]
}